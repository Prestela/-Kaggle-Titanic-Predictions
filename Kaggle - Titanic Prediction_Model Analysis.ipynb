{
 "cells": [
  {
   "cell_type": "code",
   "execution_count": 112,
   "metadata": {},
   "outputs": [],
   "source": [
    "import numpy as np\n",
    "import pandas as pd"
   ]
  },
  {
   "cell_type": "code",
   "execution_count": 113,
   "metadata": {},
   "outputs": [],
   "source": [
    "import matplotlib.pyplot as plt\n",
    "import seaborn as sns"
   ]
  },
  {
   "cell_type": "code",
   "execution_count": 114,
   "metadata": {},
   "outputs": [],
   "source": [
    "from sklearn import tree"
   ]
  },
  {
   "cell_type": "code",
   "execution_count": 115,
   "metadata": {},
   "outputs": [],
   "source": [
    "clf = tree.DecisionTreeClassifier(min_samples_split=5,\n",
    "                                 random_state=123)"
   ]
  },
  {
   "cell_type": "code",
   "execution_count": 116,
   "metadata": {},
   "outputs": [],
   "source": [
    "train = pd.read_csv('X_train_new.csv')"
   ]
  },
  {
   "cell_type": "code",
   "execution_count": 117,
   "metadata": {},
   "outputs": [],
   "source": [
    "test = pd.read_csv('X_test_new.csv')"
   ]
  },
  {
   "cell_type": "code",
   "execution_count": 118,
   "metadata": {},
   "outputs": [],
   "source": [
    "X_train = train.drop(['Survived','Name','Ticket'], axis=1)\n",
    "X_test = test.drop(['Survived','Name','Ticket'], axis=1)"
   ]
  },
  {
   "cell_type": "code",
   "execution_count": 119,
   "metadata": {},
   "outputs": [],
   "source": [
    "y_train=train['Survived']\n",
    "y_test=test['Survived']"
   ]
  },
  {
   "cell_type": "code",
   "execution_count": 120,
   "metadata": {},
   "outputs": [],
   "source": [
    "clf = clf.fit(X_train, y_train)"
   ]
  },
  {
   "cell_type": "code",
   "execution_count": 121,
   "metadata": {},
   "outputs": [
    {
     "data": {
      "text/plain": [
       "[Text(350.238, 211.4, 'X[2] <= 0.5\\nentropy = 0.473\\nsamples = 891\\nvalue = [549, 342]'),\n",
       " Text(172.422, 199.32, 'X[5] <= 26.269\\nentropy = 0.306\\nsamples = 577\\nvalue = [468, 109]'),\n",
       " Text(44.64, 187.24, 'X[8] <= 14.538\\nentropy = 0.226\\nsamples = 415\\nvalue = [361, 54]'),\n",
       " Text(11.904, 175.16, 'X[0] <= 67.0\\nentropy = 0.219\\nsamples = 16\\nvalue = [2, 14]'),\n",
       " Text(5.952, 163.07999999999998, 'entropy = 0.0\\nsamples = 1\\nvalue = [1, 0]'),\n",
       " Text(17.856, 163.07999999999998, 'X[8] <= 10.0\\nentropy = 0.124\\nsamples = 15\\nvalue = [1, 14]'),\n",
       " Text(11.904, 151.0, 'entropy = 0.0\\nsamples = 12\\nvalue = [0, 12]'),\n",
       " Text(23.808, 151.0, 'entropy = 0.444\\nsamples = 3\\nvalue = [1, 2]'),\n",
       " Text(77.376, 175.16, 'X[8] <= 22.73\\nentropy = 0.18\\nsamples = 399\\nvalue = [359, 40]'),\n",
       " Text(41.664, 163.07999999999998, 'X[8] <= 22.097\\nentropy = 0.273\\nsamples = 92\\nvalue = [77, 15]'),\n",
       " Text(35.712, 151.0, 'X[4] <= 0.5\\nentropy = 0.219\\nsamples = 88\\nvalue = [77, 11]'),\n",
       " Text(20.832, 138.92000000000002, 'X[0] <= 198.5\\nentropy = 0.182\\nsamples = 79\\nvalue = [71, 8]'),\n",
       " Text(14.879999999999999, 126.84, 'entropy = 0.0\\nsamples = 18\\nvalue = [18, 0]'),\n",
       " Text(26.784, 126.84, 'X[0] <= 227.5\\nentropy = 0.228\\nsamples = 61\\nvalue = [53, 8]'),\n",
       " Text(14.879999999999999, 114.75999999999999, 'X[8] <= 20.5\\nentropy = 0.48\\nsamples = 5\\nvalue = [2, 3]'),\n",
       " Text(8.928, 102.67999999999999, 'entropy = 0.0\\nsamples = 3\\nvalue = [0, 3]'),\n",
       " Text(20.832, 102.67999999999999, 'entropy = 0.0\\nsamples = 2\\nvalue = [2, 0]'),\n",
       " Text(38.688, 114.75999999999999, 'X[5] <= 8.175\\nentropy = 0.163\\nsamples = 56\\nvalue = [51, 5]'),\n",
       " Text(32.736, 102.67999999999999, 'X[8] <= 18.5\\nentropy = 0.239\\nsamples = 36\\nvalue = [31, 5]'),\n",
       " Text(26.784, 90.6, 'entropy = 0.0\\nsamples = 8\\nvalue = [8, 0]'),\n",
       " Text(38.688, 90.6, 'X[3] <= 0.5\\nentropy = 0.293\\nsamples = 28\\nvalue = [23, 5]'),\n",
       " Text(32.736, 78.52000000000001, 'X[5] <= 7.24\\nentropy = 0.252\\nsamples = 27\\nvalue = [23, 4]'),\n",
       " Text(20.832, 66.44, 'X[5] <= 7.175\\nentropy = 0.48\\nsamples = 5\\nvalue = [3, 2]'),\n",
       " Text(14.879999999999999, 54.359999999999985, 'entropy = 0.0\\nsamples = 3\\nvalue = [3, 0]'),\n",
       " Text(26.784, 54.359999999999985, 'entropy = 0.0\\nsamples = 2\\nvalue = [0, 2]'),\n",
       " Text(44.64, 66.44, 'X[0] <= 394.0\\nentropy = 0.165\\nsamples = 22\\nvalue = [20, 2]'),\n",
       " Text(38.688, 54.359999999999985, 'X[0] <= 386.0\\nentropy = 0.408\\nsamples = 7\\nvalue = [5, 2]'),\n",
       " Text(32.736, 42.28, 'X[5] <= 7.973\\nentropy = 0.278\\nsamples = 6\\nvalue = [5, 1]'),\n",
       " Text(26.784, 30.19999999999999, 'entropy = 0.0\\nsamples = 4\\nvalue = [4, 0]'),\n",
       " Text(38.688, 30.19999999999999, 'entropy = 0.5\\nsamples = 2\\nvalue = [1, 1]'),\n",
       " Text(44.64, 42.28, 'entropy = 0.0\\nsamples = 1\\nvalue = [0, 1]'),\n",
       " Text(50.592, 54.359999999999985, 'entropy = 0.0\\nsamples = 15\\nvalue = [15, 0]'),\n",
       " Text(44.64, 78.52000000000001, 'entropy = 0.0\\nsamples = 1\\nvalue = [0, 1]'),\n",
       " Text(44.64, 102.67999999999999, 'entropy = 0.0\\nsamples = 20\\nvalue = [20, 0]'),\n",
       " Text(50.592, 138.92000000000002, 'X[8] <= 17.152\\nentropy = 0.444\\nsamples = 9\\nvalue = [6, 3]'),\n",
       " Text(44.64, 126.84, 'entropy = 0.0\\nsamples = 4\\nvalue = [4, 0]'),\n",
       " Text(56.544, 126.84, 'X[8] <= 17.764\\nentropy = 0.48\\nsamples = 5\\nvalue = [2, 3]'),\n",
       " Text(50.592, 114.75999999999999, 'entropy = 0.0\\nsamples = 2\\nvalue = [0, 2]'),\n",
       " Text(62.496, 114.75999999999999, 'entropy = 0.444\\nsamples = 3\\nvalue = [2, 1]'),\n",
       " Text(47.616, 151.0, 'entropy = 0.0\\nsamples = 4\\nvalue = [0, 4]'),\n",
       " Text(113.088, 163.07999999999998, 'X[0] <= 24.5\\nentropy = 0.15\\nsamples = 307\\nvalue = [282, 25]'),\n",
       " Text(86.304, 151.0, 'X[5] <= 10.729\\nentropy = 0.48\\nsamples = 5\\nvalue = [3, 2]'),\n",
       " Text(80.352, 138.92000000000002, 'entropy = 0.0\\nsamples = 2\\nvalue = [2, 0]'),\n",
       " Text(92.256, 138.92000000000002, 'entropy = 0.444\\nsamples = 3\\nvalue = [1, 2]'),\n",
       " Text(139.87199999999999, 151.0, 'X[0] <= 581.5\\nentropy = 0.141\\nsamples = 302\\nvalue = [279, 23]'),\n",
       " Text(104.16, 138.92000000000002, 'X[0] <= 569.5\\nentropy = 0.186\\nsamples = 183\\nvalue = [164, 19]'),\n",
       " Text(98.208, 126.84, 'X[0] <= 267.0\\nentropy = 0.162\\nsamples = 180\\nvalue = [164, 16]'),\n",
       " Text(74.4, 114.75999999999999, 'X[8] <= 27.5\\nentropy = 0.096\\nsamples = 79\\nvalue = [75, 4]'),\n",
       " Text(56.544, 102.67999999999999, 'X[0] <= 111.0\\nentropy = 0.305\\nsamples = 16\\nvalue = [13, 3]'),\n",
       " Text(50.592, 90.6, 'entropy = 0.0\\nsamples = 6\\nvalue = [6, 0]'),\n",
       " Text(62.496, 90.6, 'X[1] <= 2.5\\nentropy = 0.42\\nsamples = 10\\nvalue = [7, 3]'),\n",
       " Text(56.544, 78.52000000000001, 'entropy = 0.0\\nsamples = 4\\nvalue = [4, 0]'),\n",
       " Text(68.448, 78.52000000000001, 'X[0] <= 155.0\\nentropy = 0.5\\nsamples = 6\\nvalue = [3, 3]'),\n",
       " Text(62.496, 66.44, 'entropy = 0.0\\nsamples = 2\\nvalue = [0, 2]'),\n",
       " Text(74.4, 66.44, 'entropy = 0.375\\nsamples = 4\\nvalue = [3, 1]'),\n",
       " Text(92.256, 102.67999999999999, 'X[0] <= 85.0\\nentropy = 0.031\\nsamples = 63\\nvalue = [62, 1]'),\n",
       " Text(86.304, 90.6, 'X[0] <= 80.0\\nentropy = 0.18\\nsamples = 10\\nvalue = [9, 1]'),\n",
       " Text(80.352, 78.52000000000001, 'entropy = 0.0\\nsamples = 9\\nvalue = [9, 0]'),\n",
       " Text(92.256, 78.52000000000001, 'entropy = 0.0\\nsamples = 1\\nvalue = [0, 1]'),\n",
       " Text(98.208, 90.6, 'entropy = 0.0\\nsamples = 53\\nvalue = [53, 0]'),\n",
       " Text(122.016, 114.75999999999999, 'X[0] <= 275.0\\nentropy = 0.209\\nsamples = 101\\nvalue = [89, 12]'),\n",
       " Text(116.064, 102.67999999999999, 'entropy = 0.0\\nsamples = 2\\nvalue = [0, 2]'),\n",
       " Text(127.968, 102.67999999999999, 'X[8] <= 29.582\\nentropy = 0.182\\nsamples = 99\\nvalue = [89, 10]'),\n",
       " Text(110.112, 90.6, 'X[0] <= 455.5\\nentropy = 0.069\\nsamples = 56\\nvalue = [54, 2]'),\n",
       " Text(104.16, 78.52000000000001, 'entropy = 0.0\\nsamples = 29\\nvalue = [29, 0]'),\n",
       " Text(116.064, 78.52000000000001, 'X[0] <= 458.0\\nentropy = 0.137\\nsamples = 27\\nvalue = [25, 2]'),\n",
       " Text(110.112, 66.44, 'entropy = 0.0\\nsamples = 1\\nvalue = [0, 1]'),\n",
       " Text(122.016, 66.44, 'X[0] <= 511.5\\nentropy = 0.074\\nsamples = 26\\nvalue = [25, 1]'),\n",
       " Text(116.064, 54.359999999999985, 'X[0] <= 510.0\\nentropy = 0.165\\nsamples = 11\\nvalue = [10, 1]'),\n",
       " Text(110.112, 42.28, 'entropy = 0.0\\nsamples = 10\\nvalue = [10, 0]'),\n",
       " Text(122.016, 42.28, 'entropy = 0.0\\nsamples = 1\\nvalue = [0, 1]'),\n",
       " Text(127.968, 54.359999999999985, 'entropy = 0.0\\nsamples = 15\\nvalue = [15, 0]'),\n",
       " Text(145.824, 90.6, 'X[5] <= 7.91\\nentropy = 0.303\\nsamples = 43\\nvalue = [35, 8]'),\n",
       " Text(139.87199999999999, 78.52000000000001, 'entropy = 0.0\\nsamples = 13\\nvalue = [13, 0]'),\n",
       " Text(151.776, 78.52000000000001, 'X[8] <= 45.5\\nentropy = 0.391\\nsamples = 30\\nvalue = [22, 8]'),\n",
       " Text(145.824, 66.44, 'X[8] <= 44.922\\nentropy = 0.435\\nsamples = 25\\nvalue = [17, 8]'),\n",
       " Text(139.87199999999999, 54.359999999999985, 'X[0] <= 536.5\\nentropy = 0.413\\nsamples = 24\\nvalue = [17, 7]'),\n",
       " Text(133.92, 42.28, 'X[0] <= 435.0\\nentropy = 0.363\\nsamples = 21\\nvalue = [16, 5]'),\n",
       " Text(127.968, 30.19999999999999, 'X[5] <= 8.356\\nentropy = 0.444\\nsamples = 15\\nvalue = [10, 5]'),\n",
       " Text(122.016, 18.120000000000005, 'entropy = 0.375\\nsamples = 4\\nvalue = [1, 3]'),\n",
       " Text(133.92, 18.120000000000005, 'X[0] <= 291.0\\nentropy = 0.298\\nsamples = 11\\nvalue = [9, 2]'),\n",
       " Text(127.968, 6.039999999999992, 'entropy = 0.5\\nsamples = 4\\nvalue = [2, 2]'),\n",
       " Text(139.87199999999999, 6.039999999999992, 'entropy = 0.0\\nsamples = 7\\nvalue = [7, 0]'),\n",
       " Text(139.87199999999999, 30.19999999999999, 'entropy = 0.0\\nsamples = 6\\nvalue = [6, 0]'),\n",
       " Text(145.824, 42.28, 'entropy = 0.444\\nsamples = 3\\nvalue = [1, 2]'),\n",
       " Text(151.776, 54.359999999999985, 'entropy = 0.0\\nsamples = 1\\nvalue = [0, 1]'),\n",
       " Text(157.728, 66.44, 'entropy = 0.0\\nsamples = 5\\nvalue = [5, 0]'),\n",
       " Text(110.112, 126.84, 'entropy = 0.0\\nsamples = 3\\nvalue = [0, 3]'),\n",
       " Text(175.584, 138.92000000000002, 'X[8] <= 31.5\\nentropy = 0.065\\nsamples = 119\\nvalue = [115, 4]'),\n",
       " Text(169.632, 126.84, 'X[8] <= 30.75\\nentropy = 0.114\\nsamples = 66\\nvalue = [62, 4]'),\n",
       " Text(157.728, 114.75999999999999, 'X[5] <= 7.013\\nentropy = 0.063\\nsamples = 61\\nvalue = [59, 2]'),\n",
       " Text(151.776, 102.67999999999999, 'entropy = 0.5\\nsamples = 2\\nvalue = [1, 1]'),\n",
       " Text(163.68, 102.67999999999999, 'X[0] <= 818.5\\nentropy = 0.033\\nsamples = 59\\nvalue = [58, 1]'),\n",
       " Text(157.728, 90.6, 'entropy = 0.0\\nsamples = 47\\nvalue = [47, 0]'),\n",
       " Text(169.632, 90.6, 'X[0] <= 827.5\\nentropy = 0.153\\nsamples = 12\\nvalue = [11, 1]'),\n",
       " Text(163.68, 78.52000000000001, 'entropy = 0.0\\nsamples = 1\\nvalue = [0, 1]'),\n",
       " Text(175.584, 78.52000000000001, 'entropy = 0.0\\nsamples = 11\\nvalue = [11, 0]'),\n",
       " Text(181.536, 114.75999999999999, 'X[0] <= 747.5\\nentropy = 0.48\\nsamples = 5\\nvalue = [3, 2]'),\n",
       " Text(175.584, 102.67999999999999, 'entropy = 0.444\\nsamples = 3\\nvalue = [1, 2]'),\n",
       " Text(187.488, 102.67999999999999, 'entropy = 0.0\\nsamples = 2\\nvalue = [2, 0]'),\n",
       " Text(181.536, 126.84, 'entropy = 0.0\\nsamples = 53\\nvalue = [53, 0]'),\n",
       " Text(300.204, 187.24, 'X[0] <= 389.0\\nentropy = 0.448\\nsamples = 162\\nvalue = [107, 55]'),\n",
       " Text(259.656, 175.16, 'X[8] <= 41.0\\nentropy = 0.313\\nsamples = 72\\nvalue = [58, 14]'),\n",
       " Text(242.544, 163.07999999999998, 'X[3] <= 2.5\\nentropy = 0.39\\nsamples = 49\\nvalue = [36, 13]'),\n",
       " Text(226.176, 151.0, 'X[8] <= 8.5\\nentropy = 0.457\\nsamples = 34\\nvalue = [22, 12]'),\n",
       " Text(220.224, 138.92000000000002, 'entropy = 0.0\\nsamples = 3\\nvalue = [0, 3]'),\n",
       " Text(232.128, 138.92000000000002, 'X[5] <= 64.979\\nentropy = 0.412\\nsamples = 31\\nvalue = [22, 9]'),\n",
       " Text(217.248, 126.84, 'X[1] <= 1.5\\nentropy = 0.488\\nsamples = 19\\nvalue = [11, 8]'),\n",
       " Text(205.344, 114.75999999999999, 'X[5] <= 30.1\\nentropy = 0.463\\nsamples = 11\\nvalue = [4, 7]'),\n",
       " Text(199.392, 102.67999999999999, 'entropy = 0.0\\nsamples = 2\\nvalue = [2, 0]'),\n",
       " Text(211.296, 102.67999999999999, 'X[0] <= 174.0\\nentropy = 0.346\\nsamples = 9\\nvalue = [2, 7]'),\n",
       " Text(205.344, 90.6, 'X[0] <= 70.0\\nentropy = 0.48\\nsamples = 5\\nvalue = [2, 3]'),\n",
       " Text(199.392, 78.52000000000001, 'entropy = 0.0\\nsamples = 2\\nvalue = [0, 2]'),\n",
       " Text(211.296, 78.52000000000001, 'entropy = 0.444\\nsamples = 3\\nvalue = [2, 1]'),\n",
       " Text(217.248, 90.6, 'entropy = 0.0\\nsamples = 4\\nvalue = [0, 4]'),\n",
       " Text(229.152, 114.75999999999999, 'X[3] <= 0.5\\nentropy = 0.219\\nsamples = 8\\nvalue = [7, 1]'),\n",
       " Text(223.2, 102.67999999999999, 'entropy = 0.5\\nsamples = 2\\nvalue = [1, 1]'),\n",
       " Text(235.10399999999998, 102.67999999999999, 'entropy = 0.0\\nsamples = 6\\nvalue = [6, 0]'),\n",
       " Text(247.008, 126.84, 'X[8] <= 33.5\\nentropy = 0.153\\nsamples = 12\\nvalue = [11, 1]'),\n",
       " Text(241.056, 114.75999999999999, 'entropy = 0.0\\nsamples = 10\\nvalue = [10, 0]'),\n",
       " Text(252.96, 114.75999999999999, 'entropy = 0.5\\nsamples = 2\\nvalue = [1, 1]'),\n",
       " Text(258.912, 151.0, 'X[0] <= 232.0\\nentropy = 0.124\\nsamples = 15\\nvalue = [14, 1]'),\n",
       " Text(252.96, 138.92000000000002, 'entropy = 0.0\\nsamples = 10\\nvalue = [10, 0]'),\n",
       " Text(264.864, 138.92000000000002, 'X[0] <= 264.5\\nentropy = 0.32\\nsamples = 5\\nvalue = [4, 1]'),\n",
       " Text(258.912, 126.84, 'entropy = 0.0\\nsamples = 1\\nvalue = [0, 1]'),\n",
       " Text(270.816, 126.84, 'entropy = 0.0\\nsamples = 4\\nvalue = [4, 0]'),\n",
       " Text(276.768, 163.07999999999998, 'X[5] <= 26.775\\nentropy = 0.083\\nsamples = 23\\nvalue = [22, 1]'),\n",
       " Text(270.816, 151.0, 'entropy = 0.5\\nsamples = 2\\nvalue = [1, 1]'),\n",
       " Text(282.71999999999997, 151.0, 'entropy = 0.0\\nsamples = 21\\nvalue = [21, 0]'),\n",
       " Text(340.752, 175.16, 'X[3] <= 2.5\\nentropy = 0.496\\nsamples = 90\\nvalue = [49, 41]'),\n",
       " Text(334.8, 163.07999999999998, 'X[8] <= 42.004\\nentropy = 0.5\\nsamples = 82\\nvalue = [41, 41]'),\n",
       " Text(297.6, 151.0, 'X[5] <= 27.15\\nentropy = 0.454\\nsamples = 46\\nvalue = [16, 30]'),\n",
       " Text(291.648, 138.92000000000002, 'entropy = 0.0\\nsamples = 8\\nvalue = [0, 8]'),\n",
       " Text(303.552, 138.92000000000002, 'X[8] <= 27.5\\nentropy = 0.488\\nsamples = 38\\nvalue = [16, 22]'),\n",
       " Text(282.71999999999997, 126.84, 'X[3] <= 0.5\\nentropy = 0.36\\nsamples = 17\\nvalue = [4, 13]'),\n",
       " Text(276.768, 114.75999999999999, 'entropy = 0.0\\nsamples = 9\\nvalue = [0, 9]'),\n",
       " Text(288.672, 114.75999999999999, 'X[8] <= 14.5\\nentropy = 0.5\\nsamples = 8\\nvalue = [4, 4]'),\n",
       " Text(282.71999999999997, 102.67999999999999, 'entropy = 0.0\\nsamples = 2\\nvalue = [0, 2]'),\n",
       " Text(294.624, 102.67999999999999, 'X[8] <= 24.5\\nentropy = 0.444\\nsamples = 6\\nvalue = [4, 2]'),\n",
       " Text(288.672, 90.6, 'entropy = 0.0\\nsamples = 3\\nvalue = [3, 0]'),\n",
       " Text(300.576, 90.6, 'entropy = 0.444\\nsamples = 3\\nvalue = [1, 2]'),\n",
       " Text(324.384, 126.84, 'X[8] <= 31.5\\nentropy = 0.49\\nsamples = 21\\nvalue = [12, 9]'),\n",
       " Text(312.48, 114.75999999999999, 'X[5] <= 56.748\\nentropy = 0.219\\nsamples = 8\\nvalue = [7, 1]'),\n",
       " Text(306.528, 102.67999999999999, 'entropy = 0.0\\nsamples = 7\\nvalue = [7, 0]'),\n",
       " Text(318.432, 102.67999999999999, 'entropy = 0.0\\nsamples = 1\\nvalue = [0, 1]'),\n",
       " Text(336.288, 114.75999999999999, 'X[0] <= 603.0\\nentropy = 0.473\\nsamples = 13\\nvalue = [5, 8]'),\n",
       " Text(330.336, 102.67999999999999, 'entropy = 0.375\\nsamples = 4\\nvalue = [3, 1]'),\n",
       " Text(342.24, 102.67999999999999, 'X[3] <= 0.5\\nentropy = 0.346\\nsamples = 9\\nvalue = [2, 7]'),\n",
       " Text(336.288, 90.6, 'entropy = 0.0\\nsamples = 6\\nvalue = [0, 6]'),\n",
       " Text(348.192, 90.6, 'entropy = 0.444\\nsamples = 3\\nvalue = [2, 1]'),\n",
       " Text(372.0, 151.0, 'X[8] <= 47.5\\nentropy = 0.424\\nsamples = 36\\nvalue = [25, 11]'),\n",
       " Text(366.048, 138.92000000000002, 'entropy = 0.0\\nsamples = 10\\nvalue = [10, 0]'),\n",
       " Text(377.952, 138.92000000000002, 'X[8] <= 53.5\\nentropy = 0.488\\nsamples = 26\\nvalue = [15, 11]'),\n",
       " Text(366.048, 126.84, 'X[5] <= 97.765\\nentropy = 0.397\\nsamples = 11\\nvalue = [3, 8]'),\n",
       " Text(360.096, 114.75999999999999, 'X[0] <= 442.5\\nentropy = 0.219\\nsamples = 8\\nvalue = [1, 7]'),\n",
       " Text(354.144, 102.67999999999999, 'entropy = 0.0\\nsamples = 1\\nvalue = [1, 0]'),\n",
       " Text(366.048, 102.67999999999999, 'entropy = 0.0\\nsamples = 7\\nvalue = [0, 7]'),\n",
       " Text(372.0, 114.75999999999999, 'entropy = 0.444\\nsamples = 3\\nvalue = [2, 1]'),\n",
       " Text(389.856, 126.84, 'X[8] <= 75.5\\nentropy = 0.32\\nsamples = 15\\nvalue = [12, 3]'),\n",
       " Text(383.904, 114.75999999999999, 'X[0] <= 572.0\\nentropy = 0.245\\nsamples = 14\\nvalue = [12, 2]'),\n",
       " Text(377.952, 102.67999999999999, 'entropy = 0.0\\nsamples = 7\\nvalue = [7, 0]'),\n",
       " Text(389.856, 102.67999999999999, 'X[0] <= 654.0\\nentropy = 0.408\\nsamples = 7\\nvalue = [5, 2]'),\n",
       " Text(383.904, 90.6, 'entropy = 0.444\\nsamples = 3\\nvalue = [1, 2]'),\n",
       " Text(395.808, 90.6, 'entropy = 0.0\\nsamples = 4\\nvalue = [4, 0]'),\n",
       " Text(395.808, 114.75999999999999, 'entropy = 0.0\\nsamples = 1\\nvalue = [0, 1]'),\n",
       " Text(346.704, 163.07999999999998, 'entropy = 0.0\\nsamples = 8\\nvalue = [8, 0]'),\n",
       " Text(528.054, 199.32, 'X[1] <= 2.5\\nentropy = 0.383\\nsamples = 314\\nvalue = [81, 233]'),\n",
       " Text(443.424, 187.24, 'X[8] <= 2.5\\nentropy = 0.1\\nsamples = 170\\nvalue = [9, 161]'),\n",
       " Text(437.472, 175.16, 'entropy = 0.5\\nsamples = 2\\nvalue = [1, 1]'),\n",
       " Text(449.376, 175.16, 'X[5] <= 28.856\\nentropy = 0.091\\nsamples = 168\\nvalue = [8, 160]'),\n",
       " Text(437.472, 163.07999999999998, 'X[5] <= 28.231\\nentropy = 0.182\\nsamples = 69\\nvalue = [7, 62]'),\n",
       " Text(431.52, 151.0, 'X[8] <= 56.0\\nentropy = 0.161\\nsamples = 68\\nvalue = [6, 62]'),\n",
       " Text(425.568, 138.92000000000002, 'X[0] <= 48.0\\nentropy = 0.14\\nsamples = 66\\nvalue = [5, 61]'),\n",
       " Text(419.616, 126.84, 'entropy = 0.5\\nsamples = 2\\nvalue = [1, 1]'),\n",
       " Text(431.52, 126.84, 'X[0] <= 373.0\\nentropy = 0.117\\nsamples = 64\\nvalue = [4, 60]'),\n",
       " Text(419.616, 114.75999999999999, 'X[0] <= 352.5\\nentropy = 0.204\\nsamples = 26\\nvalue = [3, 23]'),\n",
       " Text(413.664, 102.67999999999999, 'X[8] <= 27.5\\nentropy = 0.147\\nsamples = 25\\nvalue = [2, 23]'),\n",
       " Text(407.712, 90.6, 'X[8] <= 25.0\\nentropy = 0.32\\nsamples = 10\\nvalue = [2, 8]'),\n",
       " Text(401.76, 78.52000000000001, 'X[8] <= 22.5\\nentropy = 0.198\\nsamples = 9\\nvalue = [1, 8]'),\n",
       " Text(395.808, 66.44, 'entropy = 0.0\\nsamples = 5\\nvalue = [0, 5]'),\n",
       " Text(407.712, 66.44, 'entropy = 0.375\\nsamples = 4\\nvalue = [1, 3]'),\n",
       " Text(413.664, 78.52000000000001, 'entropy = 0.0\\nsamples = 1\\nvalue = [1, 0]'),\n",
       " Text(419.616, 90.6, 'entropy = 0.0\\nsamples = 15\\nvalue = [0, 15]'),\n",
       " Text(425.568, 102.67999999999999, 'entropy = 0.0\\nsamples = 1\\nvalue = [1, 0]'),\n",
       " Text(443.424, 114.75999999999999, 'X[0] <= 828.5\\nentropy = 0.051\\nsamples = 38\\nvalue = [1, 37]'),\n",
       " Text(437.472, 102.67999999999999, 'entropy = 0.0\\nsamples = 32\\nvalue = [0, 32]'),\n",
       " Text(449.376, 102.67999999999999, 'X[0] <= 859.0\\nentropy = 0.278\\nsamples = 6\\nvalue = [1, 5]'),\n",
       " Text(443.424, 90.6, 'entropy = 0.0\\nsamples = 1\\nvalue = [1, 0]'),\n",
       " Text(455.328, 90.6, 'entropy = 0.0\\nsamples = 5\\nvalue = [0, 5]'),\n",
       " Text(437.472, 138.92000000000002, 'entropy = 0.5\\nsamples = 2\\nvalue = [1, 1]'),\n",
       " Text(443.424, 151.0, 'entropy = 0.0\\nsamples = 1\\nvalue = [1, 0]'),\n",
       " Text(461.28, 163.07999999999998, 'X[4] <= 1.5\\nentropy = 0.02\\nsamples = 99\\nvalue = [1, 98]'),\n",
       " Text(455.328, 151.0, 'entropy = 0.0\\nsamples = 84\\nvalue = [0, 84]'),\n",
       " Text(467.23199999999997, 151.0, 'X[8] <= 24.5\\nentropy = 0.124\\nsamples = 15\\nvalue = [1, 14]'),\n",
       " Text(461.28, 138.92000000000002, 'entropy = 0.0\\nsamples = 10\\nvalue = [0, 10]'),\n",
       " Text(473.18399999999997, 138.92000000000002, 'X[8] <= 28.0\\nentropy = 0.32\\nsamples = 5\\nvalue = [1, 4]'),\n",
       " Text(467.23199999999997, 126.84, 'entropy = 0.0\\nsamples = 1\\nvalue = [1, 0]'),\n",
       " Text(479.136, 126.84, 'entropy = 0.0\\nsamples = 4\\nvalue = [0, 4]'),\n",
       " Text(612.684, 187.24, 'X[5] <= 23.35\\nentropy = 0.5\\nsamples = 144\\nvalue = [72, 72]'),\n",
       " Text(573.624, 175.16, 'X[8] <= 24.478\\nentropy = 0.484\\nsamples = 117\\nvalue = [48, 69]'),\n",
       " Text(525.264, 163.07999999999998, 'X[5] <= 7.902\\nentropy = 0.388\\nsamples = 76\\nvalue = [20, 56]'),\n",
       " Text(502.944, 151.0, 'X[8] <= 21.5\\nentropy = 0.213\\nsamples = 33\\nvalue = [4, 29]'),\n",
       " Text(496.992, 138.92000000000002, 'X[0] <= 30.0\\nentropy = 0.444\\nsamples = 12\\nvalue = [4, 8]'),\n",
       " Text(491.04, 126.84, 'entropy = 0.0\\nsamples = 1\\nvalue = [1, 0]'),\n",
       " Text(502.944, 126.84, 'X[0] <= 355.5\\nentropy = 0.397\\nsamples = 11\\nvalue = [3, 8]'),\n",
       " Text(496.992, 114.75999999999999, 'entropy = 0.0\\nsamples = 5\\nvalue = [0, 5]'),\n",
       " Text(508.896, 114.75999999999999, 'X[0] <= 718.0\\nentropy = 0.5\\nsamples = 6\\nvalue = [3, 3]'),\n",
       " Text(502.944, 102.67999999999999, 'entropy = 0.0\\nsamples = 2\\nvalue = [2, 0]'),\n",
       " Text(514.848, 102.67999999999999, 'entropy = 0.375\\nsamples = 4\\nvalue = [1, 3]'),\n",
       " Text(508.896, 138.92000000000002, 'entropy = 0.0\\nsamples = 21\\nvalue = [0, 21]'),\n",
       " Text(547.584, 151.0, 'X[5] <= 10.825\\nentropy = 0.467\\nsamples = 43\\nvalue = [16, 27]'),\n",
       " Text(532.704, 138.92000000000002, 'X[8] <= 19.0\\nentropy = 0.444\\nsamples = 12\\nvalue = [8, 4]'),\n",
       " Text(526.752, 126.84, 'X[8] <= 8.5\\nentropy = 0.32\\nsamples = 5\\nvalue = [1, 4]'),\n",
       " Text(520.8, 114.75999999999999, 'entropy = 0.0\\nsamples = 1\\nvalue = [1, 0]'),\n",
       " Text(532.704, 114.75999999999999, 'entropy = 0.0\\nsamples = 4\\nvalue = [0, 4]'),\n",
       " Text(538.656, 126.84, 'entropy = 0.0\\nsamples = 7\\nvalue = [7, 0]'),\n",
       " Text(562.4639999999999, 138.92000000000002, 'X[0] <= 122.0\\nentropy = 0.383\\nsamples = 31\\nvalue = [8, 23]'),\n",
       " Text(550.56, 126.84, 'X[8] <= 14.25\\nentropy = 0.408\\nsamples = 7\\nvalue = [5, 2]'),\n",
       " Text(544.608, 114.75999999999999, 'entropy = 0.444\\nsamples = 3\\nvalue = [1, 2]'),\n",
       " Text(556.512, 114.75999999999999, 'entropy = 0.0\\nsamples = 4\\nvalue = [4, 0]'),\n",
       " Text(574.368, 126.84, 'X[3] <= 2.5\\nentropy = 0.219\\nsamples = 24\\nvalue = [3, 21]'),\n",
       " Text(568.4159999999999, 114.75999999999999, 'X[0] <= 697.5\\nentropy = 0.159\\nsamples = 23\\nvalue = [2, 21]'),\n",
       " Text(562.4639999999999, 102.67999999999999, 'entropy = 0.0\\nsamples = 18\\nvalue = [0, 18]'),\n",
       " Text(574.368, 102.67999999999999, 'X[4] <= 0.5\\nentropy = 0.48\\nsamples = 5\\nvalue = [2, 3]'),\n",
       " Text(568.4159999999999, 90.6, 'entropy = 0.0\\nsamples = 2\\nvalue = [0, 2]'),\n",
       " Text(580.32, 90.6, 'entropy = 0.444\\nsamples = 3\\nvalue = [2, 1]'),\n",
       " Text(580.32, 114.75999999999999, 'entropy = 0.0\\nsamples = 1\\nvalue = [1, 0]'),\n",
       " Text(621.984, 163.07999999999998, 'X[0] <= 14.0\\nentropy = 0.433\\nsamples = 41\\nvalue = [28, 13]'),\n",
       " Text(616.032, 151.0, 'entropy = 0.0\\nsamples = 2\\nvalue = [0, 2]'),\n",
       " Text(627.936, 151.0, 'X[0] <= 783.0\\nentropy = 0.405\\nsamples = 39\\nvalue = [28, 11]'),\n",
       " Text(621.984, 138.92000000000002, 'X[0] <= 562.5\\nentropy = 0.368\\nsamples = 37\\nvalue = [28, 9]'),\n",
       " Text(616.032, 126.84, 'X[5] <= 14.873\\nentropy = 0.436\\nsamples = 28\\nvalue = [19, 9]'),\n",
       " Text(604.128, 114.75999999999999, 'X[8] <= 55.0\\nentropy = 0.32\\nsamples = 20\\nvalue = [16, 4]'),\n",
       " Text(598.176, 102.67999999999999, 'X[8] <= 27.5\\nentropy = 0.266\\nsamples = 19\\nvalue = [16, 3]'),\n",
       " Text(592.224, 90.6, 'entropy = 0.5\\nsamples = 4\\nvalue = [2, 2]'),\n",
       " Text(604.128, 90.6, 'X[0] <= 90.5\\nentropy = 0.124\\nsamples = 15\\nvalue = [14, 1]'),\n",
       " Text(598.176, 78.52000000000001, 'entropy = 0.5\\nsamples = 2\\nvalue = [1, 1]'),\n",
       " Text(610.08, 78.52000000000001, 'entropy = 0.0\\nsamples = 13\\nvalue = [13, 0]'),\n",
       " Text(610.08, 102.67999999999999, 'entropy = 0.0\\nsamples = 1\\nvalue = [0, 1]'),\n",
       " Text(627.936, 114.75999999999999, 'X[0] <= 255.5\\nentropy = 0.469\\nsamples = 8\\nvalue = [3, 5]'),\n",
       " Text(621.984, 102.67999999999999, 'entropy = 0.375\\nsamples = 4\\nvalue = [3, 1]'),\n",
       " Text(633.888, 102.67999999999999, 'entropy = 0.0\\nsamples = 4\\nvalue = [0, 4]'),\n",
       " Text(627.936, 126.84, 'entropy = 0.0\\nsamples = 9\\nvalue = [9, 0]'),\n",
       " Text(633.888, 138.92000000000002, 'entropy = 0.0\\nsamples = 2\\nvalue = [0, 2]'),\n",
       " Text(651.744, 175.16, 'X[0] <= 115.0\\nentropy = 0.198\\nsamples = 27\\nvalue = [24, 3]'),\n",
       " Text(645.792, 163.07999999999998, 'entropy = 0.444\\nsamples = 3\\nvalue = [1, 2]'),\n",
       " Text(657.696, 163.07999999999998, 'X[8] <= 5.5\\nentropy = 0.08\\nsamples = 24\\nvalue = [23, 1]'),\n",
       " Text(651.744, 151.0, 'X[8] <= 3.5\\nentropy = 0.278\\nsamples = 6\\nvalue = [5, 1]'),\n",
       " Text(645.792, 138.92000000000002, 'entropy = 0.0\\nsamples = 5\\nvalue = [5, 0]'),\n",
       " Text(657.696, 138.92000000000002, 'entropy = 0.0\\nsamples = 1\\nvalue = [0, 1]'),\n",
       " Text(663.648, 151.0, 'entropy = 0.0\\nsamples = 18\\nvalue = [18, 0]')]"
      ]
     },
     "execution_count": 121,
     "metadata": {},
     "output_type": "execute_result"
    },
    {
     "data": {
      "image/png": "[encoded data removed]",
      "text/plain": [
       "<Figure size 864x288 with 1 Axes>"
      ]
     },
     "metadata": {
      "needs_background": "light"
     },
     "output_type": "display_data"
    }
   ],
   "source": [
    "plt.figure(figsize=(12,4))\n",
    "tree.plot_tree(clf)"
   ]
  },
  {
   "cell_type": "code",
   "execution_count": 122,
   "metadata": {},
   "outputs": [],
   "source": [
    "dtc_pred = clf.predict(X_test)"
   ]
  },
  {
   "cell_type": "code",
   "execution_count": 168,
   "metadata": {},
   "outputs": [],
   "source": [
    "from sklearn.metrics import classification_report, confusion_matrix, accuracy_score, mean_squared_error"
   ]
  },
  {
   "cell_type": "code",
   "execution_count": 125,
   "metadata": {},
   "outputs": [
    {
     "name": "stdout",
     "output_type": "stream",
     "text": [
      "              precision    recall  f1-score   support\n",
      "\n",
      "         0.0       0.74      0.38      0.50       266\n",
      "         1.0       0.41      0.77      0.54       152\n",
      "\n",
      "    accuracy                           0.52       418\n",
      "   macro avg       0.58      0.57      0.52       418\n",
      "weighted avg       0.62      0.52      0.51       418\n",
      "\n"
     ]
    }
   ],
   "source": [
    "print(classification_report(y_test, dtc_pred))"
   ]
  },
  {
   "cell_type": "code",
   "execution_count": 128,
   "metadata": {},
   "outputs": [
    {
     "name": "stdout",
     "output_type": "stream",
     "text": [
      "51.91387559808612\n"
     ]
    }
   ],
   "source": [
    "confusion_matrix(y_test, dtc_pred)\n",
    "acc = accuracy_score(y_test, dtc_pred)*100\n",
    "print(acc)"
   ]
  },
  {
   "cell_type": "code",
   "execution_count": 163,
   "metadata": {},
   "outputs": [],
   "source": [
    "from sklearn import ensemble\n",
    "from sklearn.model_selection import RandomizedSearchCV"
   ]
  },
  {
   "cell_type": "code",
   "execution_count": 136,
   "metadata": {},
   "outputs": [],
   "source": [
    "params = dict(\n",
    "    n_estimators = [2,5,10,15,20,25,30,40,50,60,70,80,100,125,150,200],\n",
    "    criterion = ['gini', 'entropy'],\n",
    "    max_depth = [2,5,10,15,20,25,30,40,50,60,70,80,100,125,150,200,300,400,500,700,1000],\n",
    "    min_samples_leaf = [1,2,3,4,5,6,7,8,9,10,11,12,13,14,15])\n",
    "rf = ensemble.RandomForestClassifier()\n",
    "rfc = RandomizedSearchCV(rf, params, random_state=123,cv=10)"
   ]
  },
  {
   "cell_type": "code",
   "execution_count": 137,
   "metadata": {},
   "outputs": [
    {
     "name": "stderr",
     "output_type": "stream",
     "text": [
      "C:\\Users\\Prestela\\Anaconda3\\lib\\site-packages\\sklearn\\model_selection\\_search.py:813: DeprecationWarning: The default of the `iid` parameter will change from True to False in version 0.22 and will be removed in 0.24. This will change numeric results when test-set sizes are unequal.\n",
      "  DeprecationWarning)\n"
     ]
    },
    {
     "data": {
      "text/plain": [
       "{'n_estimators': 15,\n",
       " 'min_samples_leaf': 6,\n",
       " 'max_depth': 80,\n",
       " 'criterion': 'entropy'}"
      ]
     },
     "execution_count": 137,
     "metadata": {},
     "output_type": "execute_result"
    }
   ],
   "source": [
    "rfc = rfc.fit(X_train, y_train)\n",
    "rfc.best_params_"
   ]
  },
  {
   "cell_type": "code",
   "execution_count": 152,
   "metadata": {},
   "outputs": [],
   "source": [
    "rfc = ensemble.RandomForestClassifier(n_estimators= 15,\n",
    "                                     min_samples_leaf= 6,\n",
    "                                     max_depth= 80,\n",
    "                                     criterion= 'entropy')\n",
    "rfc = rfc.fit(X_train, y_train)"
   ]
  },
  {
   "cell_type": "code",
   "execution_count": 153,
   "metadata": {},
   "outputs": [],
   "source": [
    "rfc_pred = rfc.predict(X_test)"
   ]
  },
  {
   "cell_type": "code",
   "execution_count": 154,
   "metadata": {},
   "outputs": [
    {
     "name": "stdout",
     "output_type": "stream",
     "text": [
      "              precision    recall  f1-score   support\n",
      "\n",
      "         0.0       0.96      1.00      0.98       266\n",
      "         1.0       1.00      0.93      0.97       152\n",
      "\n",
      "    accuracy                           0.98       418\n",
      "   macro avg       0.98      0.97      0.97       418\n",
      "weighted avg       0.98      0.98      0.98       418\n",
      "\n"
     ]
    }
   ],
   "source": [
    "print(classification_report(y_test, rfc_pred))"
   ]
  },
  {
   "cell_type": "code",
   "execution_count": 155,
   "metadata": {},
   "outputs": [
    {
     "data": {
      "text/plain": [
       "array([[266,   0],\n",
       "       [ 10, 142]], dtype=int64)"
      ]
     },
     "execution_count": 155,
     "metadata": {},
     "output_type": "execute_result"
    }
   ],
   "source": [
    "confusion_matrix(y_test, rfc_pred)"
   ]
  },
  {
   "cell_type": "code",
   "execution_count": 156,
   "metadata": {},
   "outputs": [],
   "source": [
    "def plot_conf_matrix(y_test, y_pred):\n",
    "    conf = confusion_matrix(y_test, y_pred)\n",
    "    recall = ((conf.T)/(conf.sum(axis=1)).T)\n",
    "    precision = (conf/conf.sum(axis=0))\n",
    "    \n",
    "    class_labels = [0,1]\n",
    "    plt.figure(figsize=(10,8))\n",
    "    sns.heatmap(conf, annot=True)"
   ]
  },
  {
   "cell_type": "code",
   "execution_count": 157,
   "metadata": {},
   "outputs": [
    {
     "name": "stdout",
     "output_type": "stream",
     "text": [
      "97.60765550239235\n"
     ]
    },
    {
     "data": {
      "image/png": "[encoded data removed]",
      "text/plain": [
       "<Figure size 720x576 with 2 Axes>"
      ]
     },
     "metadata": {
      "needs_background": "light"
     },
     "output_type": "display_data"
    }
   ],
   "source": [
    "acc = accuracy_score(y_test, rfc_pred)*100\n",
    "print(acc)\n",
    "plot_conf_matrix(y_test, rfc_pred)"
   ]
  },
  {
   "cell_type": "code",
   "execution_count": 158,
   "metadata": {},
   "outputs": [],
   "source": [
    "predictions = test[['PassengerId', 'Survived']]"
   ]
  },
  {
   "cell_type": "code",
   "execution_count": 159,
   "metadata": {},
   "outputs": [
    {
     "name": "stderr",
     "output_type": "stream",
     "text": [
      "C:\\Users\\Prestela\\Anaconda3\\lib\\site-packages\\ipykernel_launcher.py:1: SettingWithCopyWarning: \n",
      "A value is trying to be set on a copy of a slice from a DataFrame.\n",
      "Try using .loc[row_indexer,col_indexer] = value instead\n",
      "\n",
      "See the caveats in the documentation: http://pandas.pydata.org/pandas-docs/stable/indexing.html#indexing-view-versus-copy\n",
      "  \"\"\"Entry point for launching an IPython kernel.\n"
     ]
    }
   ],
   "source": [
    "predictions['rfc_pred'] = rfc_pred"
   ]
  },
  {
   "cell_type": "code",
   "execution_count": 161,
   "metadata": {},
   "outputs": [
    {
     "data": {
      "text/html": [
       "<div>\n",
       "<style scoped>\n",
       "    .dataframe tbody tr th:only-of-type {\n",
       "        vertical-align: middle;\n",
       "    }\n",
       "\n",
       "    .dataframe tbody tr th {\n",
       "        vertical-align: top;\n",
       "    }\n",
       "\n",
       "    .dataframe thead th {\n",
       "        text-align: right;\n",
       "    }\n",
       "</style>\n",
       "<table border=\"1\" class=\"dataframe\">\n",
       "  <thead>\n",
       "    <tr style=\"text-align: right;\">\n",
       "      <th></th>\n",
       "      <th>PassengerId</th>\n",
       "      <th>Survived</th>\n",
       "      <th>rfc_pred</th>\n",
       "    </tr>\n",
       "  </thead>\n",
       "  <tbody>\n",
       "    <tr>\n",
       "      <th>127</th>\n",
       "      <td>1019</td>\n",
       "      <td>1.0</td>\n",
       "      <td>0.0</td>\n",
       "    </tr>\n",
       "    <tr>\n",
       "      <th>140</th>\n",
       "      <td>1032</td>\n",
       "      <td>1.0</td>\n",
       "      <td>0.0</td>\n",
       "    </tr>\n",
       "    <tr>\n",
       "      <th>188</th>\n",
       "      <td>1080</td>\n",
       "      <td>1.0</td>\n",
       "      <td>0.0</td>\n",
       "    </tr>\n",
       "    <tr>\n",
       "      <th>214</th>\n",
       "      <td>1106</td>\n",
       "      <td>1.0</td>\n",
       "      <td>0.0</td>\n",
       "    </tr>\n",
       "    <tr>\n",
       "      <th>283</th>\n",
       "      <td>1175</td>\n",
       "      <td>1.0</td>\n",
       "      <td>0.0</td>\n",
       "    </tr>\n",
       "    <tr>\n",
       "      <th>333</th>\n",
       "      <td>1225</td>\n",
       "      <td>1.0</td>\n",
       "      <td>0.0</td>\n",
       "    </tr>\n",
       "    <tr>\n",
       "      <th>359</th>\n",
       "      <td>1251</td>\n",
       "      <td>1.0</td>\n",
       "      <td>0.0</td>\n",
       "    </tr>\n",
       "    <tr>\n",
       "      <th>365</th>\n",
       "      <td>1257</td>\n",
       "      <td>1.0</td>\n",
       "      <td>0.0</td>\n",
       "    </tr>\n",
       "    <tr>\n",
       "      <th>367</th>\n",
       "      <td>1259</td>\n",
       "      <td>1.0</td>\n",
       "      <td>0.0</td>\n",
       "    </tr>\n",
       "    <tr>\n",
       "      <th>383</th>\n",
       "      <td>1275</td>\n",
       "      <td>1.0</td>\n",
       "      <td>0.0</td>\n",
       "    </tr>\n",
       "  </tbody>\n",
       "</table>\n",
       "</div>"
      ],
      "text/plain": [
       "     PassengerId  Survived  rfc_pred\n",
       "127         1019       1.0       0.0\n",
       "140         1032       1.0       0.0\n",
       "188         1080       1.0       0.0\n",
       "214         1106       1.0       0.0\n",
       "283         1175       1.0       0.0\n",
       "333         1225       1.0       0.0\n",
       "359         1251       1.0       0.0\n",
       "365         1257       1.0       0.0\n",
       "367         1259       1.0       0.0\n",
       "383         1275       1.0       0.0"
      ]
     },
     "execution_count": 161,
     "metadata": {},
     "output_type": "execute_result"
    }
   ],
   "source": [
    "predictions[predictions['Survived']!=predictions['rfc_pred']]"
   ]
  },
  {
   "cell_type": "code",
   "execution_count": 208,
   "metadata": {},
   "outputs": [],
   "source": [
    "from sklearn.ensemble import GradientBoostingClassifier"
   ]
  },
  {
   "cell_type": "code",
   "execution_count": 227,
   "metadata": {},
   "outputs": [],
   "source": [
    "gbc = GradientBoostingClassifier(max_depth=2,\n",
    "                               n_estimators=3,\n",
    "                               learning_rate=0.1)"
   ]
  },
  {
   "cell_type": "code",
   "execution_count": 228,
   "metadata": {},
   "outputs": [
    {
     "data": {
      "text/plain": [
       "GradientBoostingClassifier(criterion='friedman_mse', init=None,\n",
       "                           learning_rate=0.1, loss='deviance', max_depth=2,\n",
       "                           max_features=None, max_leaf_nodes=None,\n",
       "                           min_impurity_decrease=0.0, min_impurity_split=None,\n",
       "                           min_samples_leaf=1, min_samples_split=2,\n",
       "                           min_weight_fraction_leaf=0.0, n_estimators=3,\n",
       "                           n_iter_no_change=None, presort='auto',\n",
       "                           random_state=None, subsample=1.0, tol=0.0001,\n",
       "                           validation_fraction=0.1, verbose=0,\n",
       "                           warm_start=False)"
      ]
     },
     "execution_count": 228,
     "metadata": {},
     "output_type": "execute_result"
    }
   ],
   "source": [
    "gbc.fit(X_train, y_train)"
   ]
  },
  {
   "cell_type": "code",
   "execution_count": 254,
   "metadata": {},
   "outputs": [],
   "source": [
    "params = dict(learning_rate = [0.001,0.01,0.1,1,10,100,1000],\n",
    "             n_estimators=[2,5,10,15,20,25,30,40,50,70,100,125,150,200,300,400,500,700,1000],\n",
    "              criterion = ['friedman_mse', 'mse', 'mae'],\n",
    "              max_depth=[2,5,10,15,20,25,30,40,50,70,100,125,150,200,300,400,500,700,1000],\n",
    "             min_samples_leaf=[1,2,3,4,5,6,7,8,9,10,11,12,13,14,15])"
   ]
  },
  {
   "cell_type": "code",
   "execution_count": 255,
   "metadata": {},
   "outputs": [],
   "source": [
    "clf = RandomizedSearchCV(gbc, params, random_state=0,n_iter=20,cv=10)"
   ]
  },
  {
   "cell_type": "code",
   "execution_count": 256,
   "metadata": {},
   "outputs": [
    {
     "name": "stderr",
     "output_type": "stream",
     "text": [
      "C:\\Users\\Prestela\\Anaconda3\\lib\\site-packages\\sklearn\\model_selection\\_search.py:813: DeprecationWarning: The default of the `iid` parameter will change from True to False in version 0.22 and will be removed in 0.24. This will change numeric results when test-set sizes are unequal.\n",
      "  DeprecationWarning)\n"
     ]
    }
   ],
   "source": [
    "gbc = clf.fit(X_train,y_train)"
   ]
  },
  {
   "cell_type": "code",
   "execution_count": 257,
   "metadata": {},
   "outputs": [
    {
     "data": {
      "text/plain": [
       "{'n_estimators': 300,\n",
       " 'min_samples_leaf': 12,\n",
       " 'max_depth': 700,\n",
       " 'learning_rate': 0.01,\n",
       " 'criterion': 'mae'}"
      ]
     },
     "execution_count": 257,
     "metadata": {},
     "output_type": "execute_result"
    }
   ],
   "source": [
    "gbc.best_params_"
   ]
  },
  {
   "cell_type": "code",
   "execution_count": 258,
   "metadata": {},
   "outputs": [],
   "source": [
    "#errors= [mean_squared_error(y_test,y_pred) for y_pred in gbc.staged_predict(X_test)]"
   ]
  },
  {
   "cell_type": "code",
   "execution_count": 259,
   "metadata": {},
   "outputs": [],
   "source": [
    "#best_n_estimators = np.argmin(errors)"
   ]
  },
  {
   "cell_type": "code",
   "execution_count": 260,
   "metadata": {},
   "outputs": [],
   "source": [
    "gbc = GradientBoostingClassifier(n_estimators= 300,\n",
    " min_samples_leaf= 12,\n",
    " max_depth= 700,\n",
    " learning_rate= 0.01,\n",
    " criterion= 'mae')"
   ]
  },
  {
   "cell_type": "code",
   "execution_count": 261,
   "metadata": {},
   "outputs": [
    {
     "data": {
      "text/plain": [
       "GradientBoostingClassifier(criterion='mae', init=None, learning_rate=0.01,\n",
       "                           loss='deviance', max_depth=700, max_features=None,\n",
       "                           max_leaf_nodes=None, min_impurity_decrease=0.0,\n",
       "                           min_impurity_split=None, min_samples_leaf=12,\n",
       "                           min_samples_split=2, min_weight_fraction_leaf=0.0,\n",
       "                           n_estimators=300, n_iter_no_change=None,\n",
       "                           presort='auto', random_state=None, subsample=1.0,\n",
       "                           tol=0.0001, validation_fraction=0.1, verbose=0,\n",
       "                           warm_start=False)"
      ]
     },
     "execution_count": 261,
     "metadata": {},
     "output_type": "execute_result"
    }
   ],
   "source": [
    "gbc.fit(X_train,y_train)"
   ]
  },
  {
   "cell_type": "code",
   "execution_count": 262,
   "metadata": {},
   "outputs": [],
   "source": [
    "gbc_pred = gbc.predict(X_test)"
   ]
  },
  {
   "cell_type": "code",
   "execution_count": 263,
   "metadata": {},
   "outputs": [
    {
     "name": "stdout",
     "output_type": "stream",
     "text": [
      "97.1291866028708\n"
     ]
    },
    {
     "data": {
      "image/png": "[encoded data removed]",
      "text/plain": [
       "<Figure size 720x576 with 2 Axes>"
      ]
     },
     "metadata": {
      "needs_background": "light"
     },
     "output_type": "display_data"
    }
   ],
   "source": [
    "acc = accuracy_score(y_test, gbc_pred)*100\n",
    "print(acc)\n",
    "plot_conf_matrix(y_test, gbc_pred)"
   ]
  },
  {
   "cell_type": "code",
   "execution_count": 266,
   "metadata": {},
   "outputs": [
    {
     "name": "stderr",
     "output_type": "stream",
     "text": [
      "C:\\Users\\Prestela\\Anaconda3\\lib\\site-packages\\ipykernel_launcher.py:1: SettingWithCopyWarning: \n",
      "A value is trying to be set on a copy of a slice from a DataFrame.\n",
      "Try using .loc[row_indexer,col_indexer] = value instead\n",
      "\n",
      "See the caveats in the documentation: http://pandas.pydata.org/pandas-docs/stable/indexing.html#indexing-view-versus-copy\n",
      "  \"\"\"Entry point for launching an IPython kernel.\n"
     ]
    }
   ],
   "source": [
    "predictions['gbc_pred']=gbc_pred"
   ]
  },
  {
   "cell_type": "code",
   "execution_count": 267,
   "metadata": {},
   "outputs": [],
   "source": [
    "predictions_final = predictions[['PassengerId', 'rfc_pred']]"
   ]
  },
  {
   "cell_type": "code",
   "execution_count": 270,
   "metadata": {},
   "outputs": [],
   "source": [
    "predictions_final.to_csv('Predictions.csv')"
   ]
  },
  {
   "cell_type": "code",
   "execution_count": null,
   "metadata": {},
   "outputs": [],
   "source": []
  }
 ],
 "metadata": {
  "kernelspec": {
   "display_name": "Python 3",
   "language": "python",
   "name": "python3"
  },
  "language_info": {
   "codemirror_mode": {
    "name": "ipython",
    "version": 3
   },
   "file_extension": ".py",
   "mimetype": "text/x-python",
   "name": "python",
   "nbconvert_exporter": "python",
   "pygments_lexer": "ipython3",
   "version": "3.7.3"
  }
 },
 "nbformat": 4,
 "nbformat_minor": 2
}
