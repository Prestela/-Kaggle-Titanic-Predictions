{
 "cells": [
  {
   "cell_type": "code",
   "execution_count": 44,
   "metadata": {},
   "outputs": [],
   "source": [
    "import numpy as np\n",
    "import pandas as pd\n",
    "import matplotlib.pyplot as plt\n",
    "import seaborn as sns"
   ]
  },
  {
   "cell_type": "code",
   "execution_count": 45,
   "metadata": {},
   "outputs": [],
   "source": [
    "train= pd.read_csv('train.csv')\n",
    "X_train = train.drop('Survived', axis=1)\n",
    "y_train = train['Survived']"
   ]
  },
  {
   "cell_type": "code",
   "execution_count": 46,
   "metadata": {},
   "outputs": [],
   "source": [
    "test= pd.read_csv('test.csv')"
   ]
  },
  {
   "cell_type": "code",
   "execution_count": 47,
   "metadata": {},
   "outputs": [
    {
     "data": {
      "text/html": [
       "<div>\n",
       "<style scoped>\n",
       "    .dataframe tbody tr th:only-of-type {\n",
       "        vertical-align: middle;\n",
       "    }\n",
       "\n",
       "    .dataframe tbody tr th {\n",
       "        vertical-align: top;\n",
       "    }\n",
       "\n",
       "    .dataframe thead th {\n",
       "        text-align: right;\n",
       "    }\n",
       "</style>\n",
       "<table border=\"1\" class=\"dataframe\">\n",
       "  <thead>\n",
       "    <tr style=\"text-align: right;\">\n",
       "      <th></th>\n",
       "      <th>PassengerId</th>\n",
       "      <th>Survived</th>\n",
       "      <th>Pclass</th>\n",
       "      <th>Name</th>\n",
       "      <th>Sex</th>\n",
       "      <th>Age</th>\n",
       "      <th>SibSp</th>\n",
       "      <th>Parch</th>\n",
       "      <th>Ticket</th>\n",
       "      <th>Fare</th>\n",
       "      <th>Cabin</th>\n",
       "      <th>Embarked</th>\n",
       "    </tr>\n",
       "  </thead>\n",
       "  <tbody>\n",
       "    <tr>\n",
       "      <th>0</th>\n",
       "      <td>1</td>\n",
       "      <td>0</td>\n",
       "      <td>3</td>\n",
       "      <td>Braund, Mr. Owen Harris</td>\n",
       "      <td>male</td>\n",
       "      <td>22.0</td>\n",
       "      <td>1</td>\n",
       "      <td>0</td>\n",
       "      <td>A/5 21171</td>\n",
       "      <td>7.2500</td>\n",
       "      <td>NaN</td>\n",
       "      <td>S</td>\n",
       "    </tr>\n",
       "    <tr>\n",
       "      <th>1</th>\n",
       "      <td>2</td>\n",
       "      <td>1</td>\n",
       "      <td>1</td>\n",
       "      <td>Cumings, Mrs. John Bradley (Florence Briggs Th...</td>\n",
       "      <td>female</td>\n",
       "      <td>38.0</td>\n",
       "      <td>1</td>\n",
       "      <td>0</td>\n",
       "      <td>PC 17599</td>\n",
       "      <td>71.2833</td>\n",
       "      <td>C85</td>\n",
       "      <td>C</td>\n",
       "    </tr>\n",
       "    <tr>\n",
       "      <th>2</th>\n",
       "      <td>3</td>\n",
       "      <td>1</td>\n",
       "      <td>3</td>\n",
       "      <td>Heikkinen, Miss. Laina</td>\n",
       "      <td>female</td>\n",
       "      <td>26.0</td>\n",
       "      <td>0</td>\n",
       "      <td>0</td>\n",
       "      <td>STON/O2. 3101282</td>\n",
       "      <td>7.9250</td>\n",
       "      <td>NaN</td>\n",
       "      <td>S</td>\n",
       "    </tr>\n",
       "    <tr>\n",
       "      <th>3</th>\n",
       "      <td>4</td>\n",
       "      <td>1</td>\n",
       "      <td>1</td>\n",
       "      <td>Futrelle, Mrs. Jacques Heath (Lily May Peel)</td>\n",
       "      <td>female</td>\n",
       "      <td>35.0</td>\n",
       "      <td>1</td>\n",
       "      <td>0</td>\n",
       "      <td>113803</td>\n",
       "      <td>53.1000</td>\n",
       "      <td>C123</td>\n",
       "      <td>S</td>\n",
       "    </tr>\n",
       "    <tr>\n",
       "      <th>4</th>\n",
       "      <td>5</td>\n",
       "      <td>0</td>\n",
       "      <td>3</td>\n",
       "      <td>Allen, Mr. William Henry</td>\n",
       "      <td>male</td>\n",
       "      <td>35.0</td>\n",
       "      <td>0</td>\n",
       "      <td>0</td>\n",
       "      <td>373450</td>\n",
       "      <td>8.0500</td>\n",
       "      <td>NaN</td>\n",
       "      <td>S</td>\n",
       "    </tr>\n",
       "  </tbody>\n",
       "</table>\n",
       "</div>"
      ],
      "text/plain": [
       "   PassengerId  Survived  Pclass  \\\n",
       "0            1         0       3   \n",
       "1            2         1       1   \n",
       "2            3         1       3   \n",
       "3            4         1       1   \n",
       "4            5         0       3   \n",
       "\n",
       "                                                Name     Sex   Age  SibSp  \\\n",
       "0                            Braund, Mr. Owen Harris    male  22.0      1   \n",
       "1  Cumings, Mrs. John Bradley (Florence Briggs Th...  female  38.0      1   \n",
       "2                             Heikkinen, Miss. Laina  female  26.0      0   \n",
       "3       Futrelle, Mrs. Jacques Heath (Lily May Peel)  female  35.0      1   \n",
       "4                           Allen, Mr. William Henry    male  35.0      0   \n",
       "\n",
       "   Parch            Ticket     Fare Cabin Embarked  \n",
       "0      0         A/5 21171   7.2500   NaN        S  \n",
       "1      0          PC 17599  71.2833   C85        C  \n",
       "2      0  STON/O2. 3101282   7.9250   NaN        S  \n",
       "3      0            113803  53.1000  C123        S  \n",
       "4      0            373450   8.0500   NaN        S  "
      ]
     },
     "execution_count": 47,
     "metadata": {},
     "output_type": "execute_result"
    }
   ],
   "source": [
    "train.head()"
   ]
  },
  {
   "cell_type": "code",
   "execution_count": 73,
   "metadata": {},
   "outputs": [],
   "source": [
    "#Data Analysis\n",
    "#Distinguish categorical vars and discrete vars"
   ]
  },
  {
   "cell_type": "code",
   "execution_count": 85,
   "metadata": {},
   "outputs": [
    {
     "data": {
      "text/plain": [
       "PassengerId      int64\n",
       "Pclass           int64\n",
       "Name            object\n",
       "Sex             object\n",
       "Age            float64\n",
       "SibSp            int64\n",
       "Parch            int64\n",
       "Ticket          object\n",
       "Fare           float64\n",
       "Cabin           object\n",
       "Embarked        object\n",
       "dtype: object"
      ]
     },
     "execution_count": 85,
     "metadata": {},
     "output_type": "execute_result"
    }
   ],
   "source": [
    "vars = X_train.columns\n",
    "X_train[vars].dtypes"
   ]
  },
  {
   "cell_type": "code",
   "execution_count": 78,
   "metadata": {},
   "outputs": [
    {
     "data": {
      "text/plain": [
       "PassengerId    891\n",
       "Pclass           3\n",
       "Name           891\n",
       "Sex              2\n",
       "Age             88\n",
       "SibSp            7\n",
       "Parch            7\n",
       "Ticket         681\n",
       "Fare           248\n",
       "Cabin          147\n",
       "Embarked         3\n",
       "dtype: int64"
      ]
     },
     "execution_count": 78,
     "metadata": {},
     "output_type": "execute_result"
    }
   ],
   "source": [
    "X_train.nunique()"
   ]
  },
  {
   "cell_type": "code",
   "execution_count": 86,
   "metadata": {},
   "outputs": [
    {
     "data": {
      "text/plain": [
       "PassengerId      0\n",
       "Pclass           0\n",
       "Name             0\n",
       "Sex              0\n",
       "Age            177\n",
       "SibSp            0\n",
       "Parch            0\n",
       "Ticket           0\n",
       "Fare             0\n",
       "Cabin          687\n",
       "Embarked         2\n",
       "dtype: int64"
      ]
     },
     "execution_count": 86,
     "metadata": {},
     "output_type": "execute_result"
    }
   ],
   "source": [
    "X_train.isnull().sum()"
   ]
  },
  {
   "cell_type": "code",
   "execution_count": 49,
   "metadata": {},
   "outputs": [
    {
     "data": {
      "text/plain": [
       "['Name', 'Sex', 'Ticket', 'Cabin', 'Embarked']"
      ]
     },
     "execution_count": 49,
     "metadata": {},
     "output_type": "execute_result"
    }
   ],
   "source": [
    "cat_vars = [var for var in X_train.columns if train[var].dtype=='O']\n",
    "cat_vars"
   ]
  },
  {
   "cell_type": "code",
   "execution_count": 62,
   "metadata": {},
   "outputs": [
    {
     "data": {
      "text/plain": [
       "PassengerId      int64\n",
       "Pclass           int64\n",
       "Age            float64\n",
       "SibSp            int64\n",
       "Parch            int64\n",
       "Fare           float64\n",
       "dtype: object"
      ]
     },
     "execution_count": 62,
     "metadata": {},
     "output_type": "execute_result"
    }
   ],
   "source": [
    " \n",
    "\n",
    "X_train[num_vars].dtypes"
   ]
  },
  {
   "cell_type": "code",
   "execution_count": 64,
   "metadata": {},
   "outputs": [
    {
     "data": {
      "text/plain": [
       "7"
      ]
     },
     "execution_count": 64,
     "metadata": {},
     "output_type": "execute_result"
    }
   ],
   "source": [
    "X_train['SibSp'].nunique()"
   ]
  },
  {
   "cell_type": "code",
   "execution_count": 67,
   "metadata": {},
   "outputs": [],
   "source": [
    "discrete_num_vars = [var for var in X_train[num_vars] if X_train[var].nunique()<10]\n",
    "#X_train[discrete_num_vars]"
   ]
  },
  {
   "cell_type": "code",
   "execution_count": 68,
   "metadata": {},
   "outputs": [
    {
     "data": {
      "image/png": "[encoded data removed]",
      "text/plain": [
       "<Figure size 432x288 with 1 Axes>"
      ]
     },
     "metadata": {
      "needs_background": "light"
     },
     "output_type": "display_data"
    },
    {
     "data": {
      "image/png": "[encoded data removed]",
      "text/plain": [
       "<Figure size 432x288 with 1 Axes>"
      ]
     },
     "metadata": {
      "needs_background": "light"
     },
     "output_type": "display_data"
    },
    {
     "data": {
      "image/png": "[encoded data removed]",
      "text/plain": [
       "<Figure size 432x288 with 1 Axes>"
      ]
     },
     "metadata": {
      "needs_background": "light"
     },
     "output_type": "display_data"
    }
   ],
   "source": [
    "for var in train[discrete_num_vars]:\n",
    "    sns.barplot(train[var], y_train)\n",
    "    plt.show()"
   ]
  },
  {
   "cell_type": "code",
   "execution_count": 91,
   "metadata": {},
   "outputs": [],
   "source": [
    "continuous_num_vars = [var for var in X_train[num_vars] if X_train[var].nunique()>10]\n",
    "#X_train[cat_num_vars]"
   ]
  },
  {
   "cell_type": "code",
   "execution_count": 88,
   "metadata": {},
   "outputs": [],
   "source": [
    "discrete_vars_with_na = [var for var in X_train[discrete_num_vars] if X_train[var].isnull().sum()>0]"
   ]
  },
  {
   "cell_type": "code",
   "execution_count": 92,
   "metadata": {},
   "outputs": [],
   "source": [
    "continuous_vars_with_na = [var for var in X_train[continuous_num_vars] if X_train[var].isnull().sum()>0]"
   ]
  },
  {
   "cell_type": "code",
   "execution_count": 94,
   "metadata": {},
   "outputs": [],
   "source": [
    "cat_vars_with_na = [var for var in X_train[cat_vars] if X_train[var].isnull().sum()>0]"
   ]
  },
  {
   "cell_type": "code",
   "execution_count": 97,
   "metadata": {},
   "outputs": [
    {
     "data": {
      "text/plain": [
       "[]"
      ]
     },
     "execution_count": 97,
     "metadata": {},
     "output_type": "execute_result"
    }
   ],
   "source": [
    "discrete_vars_with_na"
   ]
  },
  {
   "cell_type": "code",
   "execution_count": 99,
   "metadata": {},
   "outputs": [
    {
     "data": {
      "text/plain": [
       "['Age']"
      ]
     },
     "execution_count": 99,
     "metadata": {},
     "output_type": "execute_result"
    }
   ],
   "source": [
    "continuous_vars_with_na"
   ]
  },
  {
   "cell_type": "code",
   "execution_count": 109,
   "metadata": {},
   "outputs": [
    {
     "data": {
      "text/plain": [
       "0.2937853107344633"
      ]
     },
     "execution_count": 109,
     "metadata": {},
     "output_type": "execute_result"
    }
   ],
   "source": [
    "#Amongst passengers which have missing age\n",
    "train[X_train['Age'].isnull()]['Survived'].mean()"
   ]
  },
  {
   "cell_type": "code",
   "execution_count": 110,
   "metadata": {},
   "outputs": [
    {
     "data": {
      "text/plain": [
       "0.4061624649859944"
      ]
     },
     "execution_count": 110,
     "metadata": {},
     "output_type": "execute_result"
    }
   ],
   "source": [
    "#Amongst passengers which have age\n",
    "train[X_train['Age'].notnull()]['Survived'].mean()"
   ]
  },
  {
   "cell_type": "code",
   "execution_count": 111,
   "metadata": {},
   "outputs": [
    {
     "data": {
      "text/plain": [
       "['Cabin', 'Embarked']"
      ]
     },
     "execution_count": 111,
     "metadata": {},
     "output_type": "execute_result"
    }
   ],
   "source": [
    "cat_vars_with_na"
   ]
  },
  {
   "cell_type": "code",
   "execution_count": 118,
   "metadata": {},
   "outputs": [
    {
     "data": {
      "image/png": "[encoded data removed]",
      "text/plain": [
       "<Figure size 432x288 with 1 Axes>"
      ]
     },
     "metadata": {
      "needs_background": "light"
     },
     "output_type": "display_data"
    },
    {
     "data": {
      "image/png": "[encoded data removed]",
      "text/plain": [
       "<Figure size 432x288 with 1 Axes>"
      ]
     },
     "metadata": {
      "needs_background": "light"
     },
     "output_type": "display_data"
    },
    {
     "data": {
      "image/png": "[encoded data removed]",
      "text/plain": [
       "<Figure size 432x288 with 1 Axes>"
      ]
     },
     "metadata": {
      "needs_background": "light"
     },
     "output_type": "display_data"
    }
   ],
   "source": [
    "#Distribution of sample\n",
    "def analyse_continuous(df, var):\n",
    "    df = df.copy()\n",
    "    df[var].hist()\n",
    "    plt.title(var)\n",
    "    plt.show()\n",
    "\n",
    "for var in continuous_num_vars:\n",
    "    analyse_continuous(X_train, var)"
   ]
  },
  {
   "cell_type": "code",
   "execution_count": 142,
   "metadata": {},
   "outputs": [
    {
     "data": {
      "image/png": "[encoded data removed]",
      "text/plain": [
       "<Figure size 432x288 with 1 Axes>"
      ]
     },
     "metadata": {
      "needs_background": "light"
     },
     "output_type": "display_data"
    },
    {
     "data": {
      "image/png": "[encoded data removed]",
      "text/plain": [
       "<Figure size 432x288 with 1 Axes>"
      ]
     },
     "metadata": {
      "needs_background": "light"
     },
     "output_type": "display_data"
    },
    {
     "data": {
      "image/png": "[encoded data removed]",
      "text/plain": [
       "<Figure size 432x288 with 1 Axes>"
      ]
     },
     "metadata": {
      "needs_background": "light"
     },
     "output_type": "display_data"
    }
   ],
   "source": [
    "for var in train[continuous_num_vars]:\n",
    "    sns.distplot(X_train[X_train[var].notnull()][var])\n",
    "    plt.show()"
   ]
  },
  {
   "cell_type": "code",
   "execution_count": 149,
   "metadata": {},
   "outputs": [
    {
     "data": {
      "image/png": "[encoded data removed]",
      "text/plain": [
       "<Figure size 432x288 with 1 Axes>"
      ]
     },
     "metadata": {
      "needs_background": "light"
     },
     "output_type": "display_data"
    },
    {
     "data": {
      "image/png": "[encoded data removed]",
      "text/plain": [
       "<Figure size 432x288 with 1 Axes>"
      ]
     },
     "metadata": {
      "needs_background": "light"
     },
     "output_type": "display_data"
    },
    {
     "data": {
      "image/png": "[encoded data removed]",
      "text/plain": [
       "<Figure size 432x288 with 1 Axes>"
      ]
     },
     "metadata": {
      "needs_background": "light"
     },
     "output_type": "display_data"
    }
   ],
   "source": [
    "#find outliers\n",
    "for var in continuous_num_vars:\n",
    "    train.boxplot(column=var)\n",
    "    plt.title(var)\n",
    "    plt.show()"
   ]
  },
  {
   "cell_type": "code",
   "execution_count": null,
   "metadata": {},
   "outputs": [],
   "source": [
    "#find out categories in cat_vars - cardinality"
   ]
  },
  {
   "cell_type": "code",
   "execution_count": 148,
   "metadata": {},
   "outputs": [
    {
     "data": {
      "text/plain": [
       "Name        891\n",
       "Sex           2\n",
       "Ticket      681\n",
       "Cabin       147\n",
       "Embarked      3\n",
       "dtype: int64"
      ]
     },
     "execution_count": 148,
     "metadata": {},
     "output_type": "execute_result"
    }
   ],
   "source": [
    "X_train[cat_vars].nunique()"
   ]
  },
  {
   "cell_type": "code",
   "execution_count": 152,
   "metadata": {},
   "outputs": [
    {
     "name": "stdout",
     "output_type": "stream",
     "text": [
      "Name\n",
      "Abbing, Mr. Anthony                                0.125\n",
      "Abbott, Mr. Rossmore Edward                        0.125\n",
      "Abbott, Mrs. Stanton (Rosa Hunt)                   0.125\n",
      "Abelson, Mr. Samuel                                0.125\n",
      "Abelson, Mrs. Samuel (Hannah Wizosky)              0.125\n",
      "Adahl, Mr. Mauritz Nils Martin                     0.125\n",
      "Adams, Mr. John                                    0.125\n",
      "Ahlin, Mrs. Johan (Johanna Persdotter Larsson)     0.125\n",
      "Aks, Mrs. Sam (Leah Rosen)                         0.125\n",
      "Albimona, Mr. Nassef Cassem                        0.125\n",
      "Alexander, Mr. William                             0.125\n",
      "Alhomaki, Mr. Ilmari Rudolf                        0.125\n",
      "Ali, Mr. Ahmed                                     0.125\n",
      "Ali, Mr. William                                   0.125\n",
      "Allen, Miss. Elisabeth Walton                      0.125\n",
      "Allen, Mr. William Henry                           0.125\n",
      "Allison, Master. Hudson Trevor                     0.125\n",
      "Allison, Miss. Helen Loraine                       0.125\n",
      "Allison, Mrs. Hudson J C (Bessie Waldo Daniels)    0.125\n",
      "Allum, Mr. Owen George                             0.125\n",
      "Andersen-Jensen, Miss. Carla Christine Nielsine    0.125\n",
      "Anderson, Mr. Harry                                0.125\n",
      "Andersson, Master. Sigvard Harald Elias            0.125\n",
      "Andersson, Miss. Ebba Iris Alfrida                 0.125\n",
      "Andersson, Miss. Ellis Anna Maria                  0.125\n",
      "Andersson, Miss. Erna Alexandra                    0.125\n",
      "Andersson, Miss. Ingeborg Constanzia               0.125\n",
      "Andersson, Miss. Sigrid Elisabeth                  0.125\n",
      "Andersson, Mr. Anders Johan                        0.125\n",
      "Andersson, Mr. August Edvard (\"Wennerstrom\")       0.125\n",
      "                                                   ...  \n",
      "Widegren, Mr. Carl/Charles Peter                   0.125\n",
      "Widener, Mr. Harry Elkins                          0.125\n",
      "Wiklund, Mr. Jakob Alfred                          0.125\n",
      "Wilhelms, Mr. Charles                              0.125\n",
      "Willey, Mr. Edward                                 0.125\n",
      "Williams, Mr. Charles Duane                        0.125\n",
      "Williams, Mr. Charles Eugene                       0.125\n",
      "Williams, Mr. Howard Hugh \"Harry\"                  0.125\n",
      "Williams, Mr. Leslie                               0.125\n",
      "Williams-Lambert, Mr. Fletcher Fellows             0.125\n",
      "Windelov, Mr. Einar                                0.125\n",
      "Wiseman, Mr. Phillippe                             0.125\n",
      "Woolner, Mr. Hugh                                  0.125\n",
      "Wright, Mr. George                                 0.125\n",
      "Yasbeck, Mr. Antoni                                0.125\n",
      "Yasbeck, Mrs. Antoni (Selini Alexander)            0.125\n",
      "Young, Miss. Marie Grice                           0.125\n",
      "Youseff, Mr. Gerious                               0.125\n",
      "Yousif, Mr. Wazli                                  0.125\n",
      "Yousseff, Mr. Gerious                              0.125\n",
      "Yrois, Miss. Henriette (\"Mrs Harbeck\")             0.125\n",
      "Zabour, Miss. Hileni                               0.125\n",
      "Zabour, Miss. Thamine                              0.125\n",
      "Zimmerman, Mr. Leo                                 0.125\n",
      "de Messemaeker, Mrs. Guillaume Joseph (Emma)       0.125\n",
      "de Mulder, Mr. Theodore                            0.125\n",
      "de Pelsmaeker, Mr. Alfons                          0.125\n",
      "del Carlo, Mr. Sebastiano                          0.125\n",
      "van Billiard, Mr. Austin Blyler                    0.125\n",
      "van Melkebeke, Mr. Philemon                        0.125\n",
      "Name: Survived, Length: 891, dtype: float64\n",
      "\n",
      "Sex\n",
      "female    39.250\n",
      "male      72.125\n",
      "Name: Survived, dtype: float64\n",
      "\n",
      "Ticket\n",
      "110152               0.375\n",
      "110413               0.375\n",
      "110465               0.250\n",
      "110564               0.125\n",
      "110813               0.125\n",
      "111240               0.125\n",
      "111320               0.125\n",
      "111361               0.250\n",
      "111369               0.125\n",
      "111426               0.125\n",
      "111427               0.125\n",
      "111428               0.125\n",
      "112050               0.125\n",
      "112052               0.125\n",
      "112053               0.125\n",
      "112058               0.125\n",
      "112059               0.125\n",
      "112277               0.125\n",
      "112379               0.125\n",
      "113028               0.125\n",
      "113043               0.125\n",
      "113050               0.125\n",
      "113051               0.125\n",
      "113055               0.125\n",
      "113056               0.125\n",
      "113059               0.125\n",
      "113501               0.125\n",
      "113503               0.125\n",
      "113505               0.250\n",
      "113509               0.125\n",
      "                     ...  \n",
      "SOTON/OQ 392082      0.125\n",
      "SOTON/OQ 392086      0.125\n",
      "SOTON/OQ 392089      0.125\n",
      "SOTON/OQ 392090      0.125\n",
      "STON/O 2. 3101269    0.125\n",
      "STON/O 2. 3101273    0.125\n",
      "STON/O 2. 3101274    0.125\n",
      "STON/O 2. 3101275    0.125\n",
      "STON/O 2. 3101280    0.125\n",
      "STON/O 2. 3101285    0.125\n",
      "STON/O 2. 3101286    0.125\n",
      "STON/O 2. 3101288    0.125\n",
      "STON/O 2. 3101289    0.125\n",
      "STON/O 2. 3101292    0.125\n",
      "STON/O 2. 3101293    0.125\n",
      "STON/O 2. 3101294    0.125\n",
      "STON/O2. 3101271     0.125\n",
      "STON/O2. 3101279     0.250\n",
      "STON/O2. 3101282     0.125\n",
      "STON/O2. 3101283     0.125\n",
      "STON/O2. 3101290     0.125\n",
      "SW/PP 751            0.125\n",
      "W./C. 14258          0.125\n",
      "W./C. 14263          0.125\n",
      "W./C. 6607           0.250\n",
      "W./C. 6608           0.500\n",
      "W./C. 6609           0.125\n",
      "W.E.P. 5734          0.125\n",
      "W/C 14208            0.125\n",
      "WE/P 5735            0.250\n",
      "Name: Survived, Length: 681, dtype: float64\n",
      "\n",
      "Cabin\n",
      "A10      0.125\n",
      "A14      0.125\n",
      "A16      0.125\n",
      "A19      0.125\n",
      "A20      0.125\n",
      "A23      0.125\n",
      "A24      0.125\n",
      "A26      0.125\n",
      "A31      0.125\n",
      "A32      0.125\n",
      "A34      0.125\n",
      "A36      0.125\n",
      "A5       0.125\n",
      "A6       0.125\n",
      "A7       0.125\n",
      "B101     0.125\n",
      "B102     0.125\n",
      "B18      0.250\n",
      "B19      0.125\n",
      "B20      0.250\n",
      "B22      0.250\n",
      "B28      0.250\n",
      "B3       0.125\n",
      "B30      0.125\n",
      "B35      0.250\n",
      "B37      0.125\n",
      "B38      0.125\n",
      "B39      0.125\n",
      "B4       0.125\n",
      "B41      0.125\n",
      "         ...  \n",
      "E12      0.125\n",
      "E121     0.250\n",
      "E17      0.125\n",
      "E24      0.250\n",
      "E25      0.250\n",
      "E31      0.125\n",
      "E33      0.250\n",
      "E34      0.125\n",
      "E36      0.125\n",
      "E38      0.125\n",
      "E40      0.125\n",
      "E44      0.250\n",
      "E46      0.125\n",
      "E49      0.125\n",
      "E50      0.125\n",
      "E58      0.125\n",
      "E63      0.125\n",
      "E67      0.250\n",
      "E68      0.125\n",
      "E77      0.125\n",
      "E8       0.250\n",
      "F E69    0.125\n",
      "F G63    0.125\n",
      "F G73    0.250\n",
      "F2       0.375\n",
      "F33      0.375\n",
      "F38      0.125\n",
      "F4       0.250\n",
      "G6       0.500\n",
      "T        0.125\n",
      "Name: Survived, Length: 147, dtype: float64\n",
      "\n",
      "Embarked\n",
      "C    21.000\n",
      "Q     9.625\n",
      "S    80.500\n",
      "Name: Survived, dtype: float64\n",
      "\n"
     ]
    }
   ],
   "source": [
    "def analyse_rare_labels(df,var,rare_perc):\n",
    "    df = df.copy()\n",
    "    tmp = df.groupby(var)['Survived'].count()/len('Survived')    \n",
    "    return tmp[tmp>rare_perc]\n",
    "\n",
    "for var in cat_vars:\n",
    "    print(analyse_rare_labels(train, var, 0.05))\n",
    "    print()"
   ]
  },
  {
   "cell_type": "code",
   "execution_count": 1,
   "metadata": {},
   "outputs": [
    {
     "ename": "NameError",
     "evalue": "name 'X_train_new' is not defined",
     "output_type": "error",
     "traceback": [
      "\u001b[1;31m---------------------------------------------------------------------------\u001b[0m",
      "\u001b[1;31mNameError\u001b[0m                                 Traceback (most recent call last)",
      "\u001b[1;32m<ipython-input-1-8b1eb6b7fede>\u001b[0m in \u001b[0;36m<module>\u001b[1;34m\u001b[0m\n\u001b[1;32m----> 1\u001b[1;33m \u001b[0mX_train_new\u001b[0m\u001b[1;33m.\u001b[0m\u001b[0mto_csv\u001b[0m\u001b[1;33m(\u001b[0m\u001b[1;34m'X_train_new.csv'\u001b[0m\u001b[1;33m,\u001b[0m \u001b[0mindex\u001b[0m\u001b[1;33m=\u001b[0m\u001b[1;32mFalse\u001b[0m\u001b[1;33m)\u001b[0m\u001b[1;33m\u001b[0m\u001b[1;33m\u001b[0m\u001b[0m\n\u001b[0m",
      "\u001b[1;31mNameError\u001b[0m: name 'X_train_new' is not defined"
     ]
    }
   ],
   "source": []
  },
  {
   "cell_type": "code",
   "execution_count": null,
   "metadata": {},
   "outputs": [],
   "source": []
  }
 ],
 "metadata": {
  "kernelspec": {
   "display_name": "Python 3",
   "language": "python",
   "name": "python3"
  },
  "language_info": {
   "codemirror_mode": {
    "name": "ipython",
    "version": 3
   },
   "file_extension": ".py",
   "mimetype": "text/x-python",
   "name": "python",
   "nbconvert_exporter": "python",
   "pygments_lexer": "ipython3",
   "version": "3.7.3"
  }
 },
 "nbformat": 4,
 "nbformat_minor": 2
}
